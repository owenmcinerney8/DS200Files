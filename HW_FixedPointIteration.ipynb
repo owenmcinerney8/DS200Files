{
  "cells": [
    {
      "cell_type": "markdown",
      "id": "5a35da4d-4e0b-48d2-9441-85380f3c30d0",
      "metadata": {
        "id": "5a35da4d-4e0b-48d2-9441-85380f3c30d0"
      },
      "source": [
        "# Fixed Point Iteration\n",
        "\n",
        "Write/complete the Python code below to perform Fixed Point Iteration to find the solution to the following equations.\n",
        "\n",
        "1. $$e^x + x = 7$$\n",
        "2. $$e^x + \\sin(x) = 4$$\n",
        "\n",
        "**To evalute cells, type shift + enter.**"
      ]
    },
    {
      "cell_type": "code",
      "execution_count": null,
      "id": "163fb8c4-d79e-478b-98c6-adf781bffe5e",
      "metadata": {
        "id": "163fb8c4-d79e-478b-98c6-adf781bffe5e"
      },
      "outputs": [],
      "source": [
        "import numpy as np\n",
        "import math\n",
        "from matplotlib import pyplot as plt\n",
        "from ipywidgets import interactive, fixed"
      ]
    },
    {
      "cell_type": "code",
      "execution_count": null,
      "id": "779913c8-f28e-4282-8c00-a9e6acc1b2b8",
      "metadata": {
        "id": "779913c8-f28e-4282-8c00-a9e6acc1b2b8"
      },
      "outputs": [],
      "source": [
        "# Fixed-Point Iteration\n",
        "# Computes approximate solution of g(x) = x\n",
        "# Input: starting guess p0,\n",
        "#        number of steps k\n",
        "# Output: Approximate solution pn\n",
        "def fpi(p0,k):\n",
        "\n",
        "    # initialize\n",
        "    pn = np.zeros(k+1)\n",
        "\n",
        "    pn[0] = p0\n",
        "    print(\"n = \",0,\":\",\"pn = \",pn[0])\n",
        "    for i in range(k):\n",
        "\n",
        "        print(\"n = \",i+1,\":\",\"pn = \",pn[i+1])\n",
        "\n",
        "    return #pn\n"
      ]
    },
    {
      "cell_type": "code",
      "execution_count": null,
      "id": "d7b51d43-104c-4a48-b878-465866ed9a66",
      "metadata": {
        "id": "d7b51d43-104c-4a48-b878-465866ed9a66",
        "outputId": "3bc80a30-61a2-42a3-ec5f-0a148b7b610f"
      },
      "outputs": [
        {
          "ename": "SyntaxError",
          "evalue": "invalid syntax (1041002816.py, line 3)",
          "output_type": "error",
          "traceback": [
            "  \u001b[36mCell\u001b[39m\u001b[36m \u001b[39m\u001b[32mIn[1]\u001b[39m\u001b[32m, line 3\u001b[39m\n\u001b[31m    \u001b[39m\u001b[31mgvalue =\u001b[39m\n             ^\n\u001b[31mSyntaxError\u001b[39m\u001b[31m:\u001b[39m invalid syntax\n"
          ]
        }
      ],
      "source": [
        "# Function for which fixed point is needed.\n",
        "def g(x, f):\n",
        "    gvalue = x-f(x)\n",
        "    return gvalue\n",
        "\n",
        "fpi(0.5,12)"
      ]
    },
    {
      "cell_type": "code",
      "execution_count": null,
      "id": "bfa27adf-5aa2-401d-a256-f7b55ffde520",
      "metadata": {
        "id": "bfa27adf-5aa2-401d-a256-f7b55ffde520"
      },
      "outputs": [],
      "source": []
    }
  ],
  "metadata": {
    "kernelspec": {
      "display_name": "Python 3 (ipykernel)",
      "language": "python",
      "name": "python3"
    },
    "language_info": {
      "codemirror_mode": {
        "name": "ipython",
        "version": 3
      },
      "file_extension": ".py",
      "mimetype": "text/x-python",
      "name": "python",
      "nbconvert_exporter": "python",
      "pygments_lexer": "ipython3",
      "version": "3.13.3"
    },
    "colab": {
      "provenance": []
    }
  },
  "nbformat": 4,
  "nbformat_minor": 5
}