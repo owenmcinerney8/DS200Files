{
  "cells": [
    {
      "cell_type": "markdown",
      "id": "5a35da4d-4e0b-48d2-9441-85380f3c30d0",
      "metadata": {
        "id": "5a35da4d-4e0b-48d2-9441-85380f3c30d0"
      },
      "source": [
        "# The Bisection Method\n",
        "\n",
        "Write/complete the python program below to perform the Bisection Method. Use it for the following problems.\n",
        "\n",
        "1. Find an approximation to within $10^{-5}$ to a value in $[0.5,1.5]$ with $e^{x}-2 = \\cos(e^{x}-2$).\n",
        "\n",
        "\n",
        "2. Find an approximation to within $10^{-5}$ to the first positive value of $x$ with $x= \\tan{x}$.\n",
        "\n",
        "**To evalute cells, type shift + enter.**"
      ]
    },
    {
      "cell_type": "code",
      "execution_count": 2,
      "id": "163fb8c4-d79e-478b-98c6-adf781bffe5e",
      "metadata": {
        "id": "163fb8c4-d79e-478b-98c6-adf781bffe5e"
      },
      "outputs": [],
      "source": [
        "import numpy as np\n",
        "import math\n",
        "from matplotlib import pyplot as plt\n",
        "from ipywidgets import interactive, fixed"
      ]
    },
    {
      "cell_type": "code",
      "execution_count": 6,
      "id": "779913c8-f28e-4282-8c00-a9e6acc1b2b8",
      "metadata": {
        "id": "779913c8-f28e-4282-8c00-a9e6acc1b2b8"
      },
      "outputs": [],
      "source": [
        "# Bisection Method\n",
        "# Computes approximate solution of f(x) = 0\n",
        "# Input: a,b such that f(a)*f(b)<0 and tolerance tol\n",
        "# Output: Approximate solution xc\n",
        "def bisect(a,b,tol,f):\n",
        "\n",
        "    fa = f(a)\n",
        "    fb = f(b)\n",
        "\n",
        "    # Check sign change on [a,b].\n",
        "    product = fa * fb\n",
        "    if product >= 0:\n",
        "        print(\"f(a)f(b)<0 not satisfied: f(a)*f(b) = \",product,\">= 0\")\n",
        "        return\n",
        "\n",
        "    count = 0\n",
        "    while (b-a)/2 > tol:\n",
        "\n",
        "        count = count + 1\n",
        "        # new midpoint\n",
        "        c  = (a+b)/2\n",
        "        fc = f(c)\n",
        "        print(\"n = \",count,\":\",\"c = \",c)\n",
        "\n",
        "        # establish new interval containing root\n",
        "        if fc == 0:\n",
        "            return c\n",
        "        if fa*fc < 0: # a, c is new interval\n",
        "            b  = c\n",
        "            fb = fc\n",
        "        else: # c, b is new interval\n",
        "            a  = b\n",
        "            fa = fb\n",
        "\n",
        "    c = (a+b)/2\n",
        "    print(\"n = \",count+1,\":\",\"c = \",c)\n",
        "\n",
        "    return c"
      ]
    },
    {
      "cell_type": "markdown",
      "id": "92196047-ce28-47db-ac3b-6ad1ab81c366",
      "metadata": {
        "id": "92196047-ce28-47db-ac3b-6ad1ab81c366"
      },
      "source": [
        "1. $$e^{x}-2 - \\cos(e^{x}-2) = 0\\quad \\text{on}\\quad [0.5,1.5]\\quad \\text{within tolerance of}\\quad 10^{-5}$$"
      ]
    },
    {
      "cell_type": "markdown",
      "id": "b0841945-7cbc-4ad0-9256-651fad5daddd",
      "metadata": {
        "id": "b0841945-7cbc-4ad0-9256-651fad5daddd"
      },
      "source": [
        "2. $$x= \\tan{x}\\quad \\text{on}\\quad [a,b]\\quad \\text{within tolerance of}\\quad 10^{-5}$$"
      ]
    },
    {
      "cell_type": "code",
      "execution_count": 10,
      "id": "bfa27adf-5aa2-401d-a256-f7b55ffde520",
      "metadata": {
        "id": "bfa27adf-5aa2-401d-a256-f7b55ffde520"
      },
      "outputs": [],
      "source": [
        "f1 = lambda x: np.exp(x)-2-np.cos(np.exp(x)-2)\n",
        "f2 = lambda x: x-np.tan(x)"
      ]
    },
    {
      "cell_type": "code",
      "source": [
        "bisect(0.5,1.5,1e-5,f1)"
      ],
      "metadata": {
        "id": "NXj52Y7tXHVY",
        "outputId": "8ffc1ba1-56c6-4532-b075-1fe036f7599e",
        "colab": {
          "base_uri": "https://localhost:8080/"
        }
      },
      "id": "NXj52Y7tXHVY",
      "execution_count": 8,
      "outputs": [
        {
          "output_type": "stream",
          "name": "stdout",
          "text": [
            "n =  1 : c =  1.0\n",
            "n =  2 : c =  1.5\n"
          ]
        },
        {
          "output_type": "execute_result",
          "data": {
            "text/plain": [
              "1.5"
            ]
          },
          "metadata": {},
          "execution_count": 8
        }
      ]
    },
    {
      "cell_type": "code",
      "source": [
        "bisect(3.5,4.5,1e-5,f2)"
      ],
      "metadata": {
        "id": "sytXow8AXHml",
        "outputId": "8df0061d-8002-4cee-8d8c-c4deda699093",
        "colab": {
          "base_uri": "https://localhost:8080/"
        }
      },
      "id": "sytXow8AXHml",
      "execution_count": 9,
      "outputs": [
        {
          "output_type": "stream",
          "name": "stdout",
          "text": [
            "n =  1 : c =  4.0\n",
            "n =  2 : c =  4.5\n"
          ]
        },
        {
          "output_type": "execute_result",
          "data": {
            "text/plain": [
              "4.5"
            ]
          },
          "metadata": {},
          "execution_count": 9
        }
      ]
    }
  ],
  "metadata": {
    "kernelspec": {
      "display_name": "Python 3 (ipykernel)",
      "language": "python",
      "name": "python3"
    },
    "language_info": {
      "codemirror_mode": {
        "name": "ipython",
        "version": 3
      },
      "file_extension": ".py",
      "mimetype": "text/x-python",
      "name": "python",
      "nbconvert_exporter": "python",
      "pygments_lexer": "ipython3",
      "version": "3.13.3"
    },
    "colab": {
      "provenance": []
    }
  },
  "nbformat": 4,
  "nbformat_minor": 5
}